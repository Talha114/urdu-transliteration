{
 "cells": [
  {
   "cell_type": "markdown",
   "id": "2b4e7836",
   "metadata": {},
   "source": [
    "Basic program for Urdu to Roman Urdu transliteration and vice versa. Characters are mapped to dictionary and replaced in the strings."
   ]
  },
  {
   "cell_type": "code",
   "execution_count": 1,
   "id": "e12614ba",
   "metadata": {},
   "outputs": [],
   "source": [
    "urduDict = {\n",
    "        'آ':'ā',\n",
    "        'ا':'a',\n",
    "        'ب':'b',\n",
    "        'پ':'p',\n",
    "        'ت':'t',\n",
    "        'ٹ':'ṭ',\n",
    "        'ث':'s',\n",
    "        'ج':'j',\n",
    "        'چ':'c',\n",
    "        'ح':'h',\n",
    "        'خ':'x' ,       \n",
    "        'د':'d',\n",
    "        'ڈ':'ḍ',\n",
    "        'ذ':'z',\n",
    "        'ر':'r',\n",
    "        'ڑ':'ṛ',\n",
    "        'ز':'z',\n",
    "        'ژ':'zh',\n",
    "        'س':'s',\n",
    "        'ش':'sh',\n",
    "        'ص':'s',    \n",
    "        'ض':'Ż',\n",
    "        'ط':'t',\n",
    "        'ظ':'z',\n",
    "        'ع':'a',\n",
    "        'غ':'g',\n",
    "        'ف':'f',\n",
    "        'ق':'q',\n",
    "        'ک':'k',\n",
    "        'گ':'g',\n",
    "        'ل':'l',\n",
    "        'م':'m',\n",
    "        'ن':'n',\n",
    "        'ں':'i',\n",
    "        'و':'o',\n",
    "        'ہ':'eh',\n",
    "        'ھ':'h',         \n",
    "#         'ی':'ai',        \n",
    "        'ی':'y',    \n",
    "        'ے':'e'\n",
    "#         'ے':'ay'    \n",
    "#         'ہی':'hi'\n",
    "    }"
   ]
  },
  {
   "cell_type": "code",
   "execution_count": 2,
   "id": "a1d4c629",
   "metadata": {},
   "outputs": [],
   "source": [
    "dict2 = {\n",
    "    'hi': 'ھی', \n",
    "    'sa': 'سا',\n",
    "}"
   ]
  },
  {
   "cell_type": "code",
   "execution_count": 3,
   "id": "e39f1ef9",
   "metadata": {},
   "outputs": [
    {
     "data": {
      "text/plain": [
       "'یہی تو میں ان سے بھی کہہ رہا تھا'"
      ]
     },
     "execution_count": 3,
     "metadata": {},
     "output_type": "execute_result"
    }
   ],
   "source": [
    "str1 = 'یہی تو میں ان سے بھی کہہ رہا تھا'\n",
    "# str1 = 'جیسا کہ سب نے دیکھا اس ٹیم میں کچھ دم نظر آیا سب نے اچھی پرفارمنس دی'\n",
    "  \n",
    "str1"
   ]
  },
  {
   "cell_type": "code",
   "execution_count": 4,
   "id": "f5a1eb47",
   "metadata": {},
   "outputs": [
    {
     "data": {
      "text/plain": [
       "'yehy to myi an se bhy keheh reha tha'"
      ]
     },
     "execution_count": 4,
     "metadata": {},
     "output_type": "execute_result"
    }
   ],
   "source": [
    "def urdu2roman(str1):\n",
    "        \n",
    "    line = ''\n",
    "    for i in range(len(str1)):\n",
    "        if str1[i] == ' ':\n",
    "            line += ' '\n",
    "        else:\n",
    "            line += urduDict[str1[i]]\n",
    "            \n",
    "    \n",
    "\n",
    "    return line\n",
    "\n",
    "urdu2roman(str1)"
   ]
  },
  {
   "cell_type": "code",
   "execution_count": 5,
   "id": "e5fd259b",
   "metadata": {},
   "outputs": [],
   "source": [
    "# str2 = urdu2roman(str1)\n",
    "# str2 = 'yahi to mai unse b keh ra tha'\n",
    "str2 = 'Jaisa ke sub ne dekha is team main kuch dum nazar aya sub ne achi performance di'"
   ]
  },
  {
   "cell_type": "code",
   "execution_count": 6,
   "id": "6c5c6d3e",
   "metadata": {},
   "outputs": [
    {
     "data": {
      "text/plain": [
       "'جاںثا کے ثب نے دےکحا ںث تےام ماںن کچح دم ناذار ایا ثب نے اچحں پےرفورمانچے دں'"
      ]
     },
     "execution_count": 6,
     "metadata": {},
     "output_type": "execute_result"
    }
   ],
   "source": [
    "def roman2urdu(str2):           \n",
    "    \n",
    "    str2 = str2.lower()\n",
    "    line = ''\n",
    "    for i in range(len(str2)):\n",
    "        if str2[i] == ' ':\n",
    "            line += ' '\n",
    "        else:\n",
    "            if str2[i] != 'u':\n",
    "                line += list(urduDict.keys())[list(urduDict.values()).index(str2[i])]                \n",
    "\n",
    "    return line\n",
    "\n",
    "roman2urdu(str2)"
   ]
  }
 ],
 "metadata": {
  "kernelspec": {
   "display_name": "Python 3 (ipykernel)",
   "language": "python",
   "name": "python3"
  },
  "language_info": {
   "codemirror_mode": {
    "name": "ipython",
    "version": 3
   },
   "file_extension": ".py",
   "mimetype": "text/x-python",
   "name": "python",
   "nbconvert_exporter": "python",
   "pygments_lexer": "ipython3",
   "version": "3.10.2"
  }
 },
 "nbformat": 4,
 "nbformat_minor": 5
}
